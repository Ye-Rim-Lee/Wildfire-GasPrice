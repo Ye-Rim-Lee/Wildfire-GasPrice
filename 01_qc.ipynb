{
 "cells": [
  {
   "cell_type": "markdown",
   "id": "ebad301a",
   "metadata": {},
   "source": [
    "# Daily Scrape QC\n",
    "This quick notebook inspects the latest GasBuddy scrape file and surfaces basic quality checks (row counts, station coverage, missingness, and price distributions)."
   ]
  },
  {
   "cell_type": "code",
   "execution_count": null,
   "id": "df7f08ac",
   "metadata": {},
   "outputs": [],
   "source": [
    "\n",
    "import os, glob, pandas as pd\n",
    "from datetime import datetime\n",
    "\n",
    "paths = sorted(glob.glob('scraping_*/*gas_price_zip_*_*.csv'), key=os.path.getmtime)\n",
    "assert paths, \"No CSVs found under scraping_*/. Run the scraper first.\"\n",
    "latest = paths[-1]\n",
    "latest\n"
   ]
  },
  {
   "cell_type": "code",
   "execution_count": null,
   "id": "b18912bf",
   "metadata": {},
   "outputs": [],
   "source": [
    "\n",
    "import pandas as pd\n",
    "df = pd.read_csv(latest)\n",
    "df.head()\n"
   ]
  },
  {
   "cell_type": "code",
   "execution_count": null,
   "id": "422905be",
   "metadata": {},
   "outputs": [],
   "source": [
    "\n",
    "print(\"Rows:\", len(df))\n",
    "print(\"Unique stations:\", df['station_id'].nunique())\n",
    "print(\"Unique ZIPs:\", df['zipcode'].nunique())\n",
    "df.isna().mean().rename(\"missing_rate\")\n"
   ]
  },
  {
   "cell_type": "code",
   "execution_count": null,
   "id": "37ff46e0",
   "metadata": {},
   "outputs": [],
   "source": [
    "\n",
    "import re\n",
    "def to_price(x):\n",
    "    if isinstance(x, str):\n",
    "        m = re.search(r'(\\d+(?:\\.\\d+)?)', x.replace(',', ''))\n",
    "        return float(m.group(1)) if m else None\n",
    "    return None\n",
    "\n",
    "df['price_num'] = df['price'].apply(to_price)\n",
    "df[['price','price_num']].head(10)\n"
   ]
  },
  {
   "cell_type": "code",
   "execution_count": null,
   "id": "3966640a",
   "metadata": {},
   "outputs": [],
   "source": [
    "\n",
    "import matplotlib.pyplot as plt\n",
    "clean = df['price_num'].dropna()\n",
    "plt.figure()\n",
    "plt.hist(clean, bins=40)\n",
    "plt.title('Price Distribution (price_num)')\n",
    "plt.xlabel('Price')\n",
    "plt.ylabel('Frequency')\n",
    "plt.show()\n"
   ]
  },
  {
   "cell_type": "code",
   "execution_count": null,
   "id": "9cbe581f",
   "metadata": {},
   "outputs": [],
   "source": [
    "\n",
    "df['posted_time'].value_counts().head(20)\n"
   ]
  }
 ],
 "metadata": {},
 "nbformat": 4,
 "nbformat_minor": 5
}
